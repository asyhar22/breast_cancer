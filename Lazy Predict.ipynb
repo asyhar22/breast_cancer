{
 "cells": [
  {
   "cell_type": "code",
   "execution_count": 1,
   "id": "decd62b2",
   "metadata": {},
   "outputs": [],
   "source": [
    "from lazypredict.Supervised import LazyClassifier\n",
    "from sklearn.datasets import load_breast_cancer\n",
    "from sklearn.model_selection import train_test_split"
   ]
  },
  {
   "cell_type": "code",
   "execution_count": 2,
   "id": "50f9c8ee",
   "metadata": {},
   "outputs": [
    {
     "name": "stdout",
     "output_type": "stream",
     "text": [
      "['mean radius' 'mean texture' 'mean perimeter' 'mean area'\n",
      " 'mean smoothness' 'mean compactness' 'mean concavity'\n",
      " 'mean concave points' 'mean symmetry' 'mean fractal dimension'\n",
      " 'radius error' 'texture error' 'perimeter error' 'area error'\n",
      " 'smoothness error' 'compactness error' 'concavity error'\n",
      " 'concave points error' 'symmetry error' 'fractal dimension error'\n",
      " 'worst radius' 'worst texture' 'worst perimeter' 'worst area'\n",
      " 'worst smoothness' 'worst compactness' 'worst concavity'\n",
      " 'worst concave points' 'worst symmetry' 'worst fractal dimension']\n"
     ]
    }
   ],
   "source": [
    "data = load_breast_cancer()\n",
    "print(data.feature_names)"
   ]
  },
  {
   "cell_type": "code",
   "execution_count": 3,
   "id": "af45abe6",
   "metadata": {},
   "outputs": [],
   "source": [
    "X = data.data[:,[0, 1, 4, 5, 6, 8, 9]]\n",
    "y = data.target"
   ]
  },
  {
   "cell_type": "code",
   "execution_count": 4,
   "id": "14a6550b",
   "metadata": {},
   "outputs": [],
   "source": [
    "X_train, X_test, y_train, y_test = train_test_split(X, y, test_size = 0.5, random_state = 123)"
   ]
  },
  {
   "cell_type": "code",
   "execution_count": 5,
   "id": "98a1609f",
   "metadata": {},
   "outputs": [],
   "source": [
    "clf = LazyClassifier(verbose = 0, ignore_warnings = True, custom_metric = None)"
   ]
  },
  {
   "cell_type": "code",
   "execution_count": 6,
   "id": "404f52f5",
   "metadata": {},
   "outputs": [
    {
     "name": "stderr",
     "output_type": "stream",
     "text": [
      "100%|██████████████████████████████████████████████████████████████████████████████████████████████████████████████| 29/29 [00:01<00:00, 25.00it/s]\n"
     ]
    }
   ],
   "source": [
    "models, predictions = clf.fit(X_train, X_test, y_train, y_test)"
   ]
  },
  {
   "cell_type": "code",
   "execution_count": 7,
   "id": "30c49dc2",
   "metadata": {},
   "outputs": [
    {
     "name": "stdout",
     "output_type": "stream",
     "text": [
      "                               Accuracy  Balanced Accuracy  ROC AUC  F1 Score  \\\n",
      "Model                                                                           \n",
      "SVC                                0.96               0.96     0.96      0.96   \n",
      "LGBMClassifier                     0.95               0.95     0.95      0.95   \n",
      "QuadraticDiscriminantAnalysis      0.95               0.95     0.95      0.95   \n",
      "LinearSVC                          0.94               0.94     0.94      0.94   \n",
      "AdaBoostClassifier                 0.94               0.93     0.93      0.94   \n",
      "XGBClassifier                      0.94               0.93     0.93      0.94   \n",
      "PassiveAggressiveClassifier        0.93               0.93     0.93      0.93   \n",
      "RandomForestClassifier             0.94               0.93     0.93      0.94   \n",
      "SGDClassifier                      0.93               0.93     0.93      0.93   \n",
      "CalibratedClassifierCV             0.94               0.93     0.93      0.94   \n",
      "LogisticRegression                 0.94               0.93     0.93      0.94   \n",
      "ExtraTreesClassifier               0.93               0.93     0.93      0.93   \n",
      "NuSVC                              0.94               0.93     0.93      0.94   \n",
      "LabelPropagation                   0.92               0.93     0.93      0.92   \n",
      "LabelSpreading                     0.92               0.93     0.93      0.92   \n",
      "GaussianNB                         0.93               0.92     0.92      0.93   \n",
      "BaggingClassifier                  0.92               0.92     0.92      0.92   \n",
      "NearestCentroid                    0.93               0.91     0.91      0.93   \n",
      "RidgeClassifierCV                  0.93               0.91     0.91      0.93   \n",
      "KNeighborsClassifier               0.92               0.91     0.91      0.92   \n",
      "LinearDiscriminantAnalysis         0.93               0.91     0.91      0.93   \n",
      "RidgeClassifier                    0.93               0.91     0.91      0.93   \n",
      "BernoulliNB                        0.91               0.90     0.90      0.91   \n",
      "DecisionTreeClassifier             0.91               0.90     0.90      0.91   \n",
      "Perceptron                         0.90               0.90     0.90      0.90   \n",
      "ExtraTreeClassifier                0.88               0.86     0.86      0.88   \n",
      "DummyClassifier                    0.64               0.50     0.50      0.50   \n",
      "\n",
      "                               Time Taken  \n",
      "Model                                      \n",
      "SVC                                  0.01  \n",
      "LGBMClassifier                       0.07  \n",
      "QuadraticDiscriminantAnalysis        0.02  \n",
      "LinearSVC                            0.01  \n",
      "AdaBoostClassifier                   0.12  \n",
      "XGBClassifier                        0.06  \n",
      "PassiveAggressiveClassifier          0.01  \n",
      "RandomForestClassifier               0.19  \n",
      "SGDClassifier                        0.02  \n",
      "CalibratedClassifierCV               0.07  \n",
      "LogisticRegression                   0.00  \n",
      "ExtraTreesClassifier                 0.17  \n",
      "NuSVC                                0.03  \n",
      "LabelPropagation                     0.02  \n",
      "LabelSpreading                       0.02  \n",
      "GaussianNB                           0.01  \n",
      "BaggingClassifier                    0.04  \n",
      "NearestCentroid                      0.08  \n",
      "RidgeClassifierCV                    0.03  \n",
      "KNeighborsClassifier                 0.04  \n",
      "LinearDiscriminantAnalysis           0.04  \n",
      "RidgeClassifier                      0.02  \n",
      "BernoulliNB                          0.01  \n",
      "DecisionTreeClassifier               0.00  \n",
      "Perceptron                           0.00  \n",
      "ExtraTreeClassifier                  0.01  \n",
      "DummyClassifier                      0.02  \n"
     ]
    }
   ],
   "source": [
    "print(models)"
   ]
  },
  {
   "cell_type": "code",
   "execution_count": 14,
   "id": "5fb8ee50",
   "metadata": {},
   "outputs": [
    {
     "data": {
      "text/html": [
       "<style>#sk-container-id-4 {color: black;background-color: white;}#sk-container-id-4 pre{padding: 0;}#sk-container-id-4 div.sk-toggleable {background-color: white;}#sk-container-id-4 label.sk-toggleable__label {cursor: pointer;display: block;width: 100%;margin-bottom: 0;padding: 0.3em;box-sizing: border-box;text-align: center;}#sk-container-id-4 label.sk-toggleable__label-arrow:before {content: \"▸\";float: left;margin-right: 0.25em;color: #696969;}#sk-container-id-4 label.sk-toggleable__label-arrow:hover:before {color: black;}#sk-container-id-4 div.sk-estimator:hover label.sk-toggleable__label-arrow:before {color: black;}#sk-container-id-4 div.sk-toggleable__content {max-height: 0;max-width: 0;overflow: hidden;text-align: left;background-color: #f0f8ff;}#sk-container-id-4 div.sk-toggleable__content pre {margin: 0.2em;color: black;border-radius: 0.25em;background-color: #f0f8ff;}#sk-container-id-4 input.sk-toggleable__control:checked~div.sk-toggleable__content {max-height: 200px;max-width: 100%;overflow: auto;}#sk-container-id-4 input.sk-toggleable__control:checked~label.sk-toggleable__label-arrow:before {content: \"▾\";}#sk-container-id-4 div.sk-estimator input.sk-toggleable__control:checked~label.sk-toggleable__label {background-color: #d4ebff;}#sk-container-id-4 div.sk-label input.sk-toggleable__control:checked~label.sk-toggleable__label {background-color: #d4ebff;}#sk-container-id-4 input.sk-hidden--visually {border: 0;clip: rect(1px 1px 1px 1px);clip: rect(1px, 1px, 1px, 1px);height: 1px;margin: -1px;overflow: hidden;padding: 0;position: absolute;width: 1px;}#sk-container-id-4 div.sk-estimator {font-family: monospace;background-color: #f0f8ff;border: 1px dotted black;border-radius: 0.25em;box-sizing: border-box;margin-bottom: 0.5em;}#sk-container-id-4 div.sk-estimator:hover {background-color: #d4ebff;}#sk-container-id-4 div.sk-parallel-item::after {content: \"\";width: 100%;border-bottom: 1px solid gray;flex-grow: 1;}#sk-container-id-4 div.sk-label:hover label.sk-toggleable__label {background-color: #d4ebff;}#sk-container-id-4 div.sk-serial::before {content: \"\";position: absolute;border-left: 1px solid gray;box-sizing: border-box;top: 0;bottom: 0;left: 50%;z-index: 0;}#sk-container-id-4 div.sk-serial {display: flex;flex-direction: column;align-items: center;background-color: white;padding-right: 0.2em;padding-left: 0.2em;position: relative;}#sk-container-id-4 div.sk-item {position: relative;z-index: 1;}#sk-container-id-4 div.sk-parallel {display: flex;align-items: stretch;justify-content: center;background-color: white;position: relative;}#sk-container-id-4 div.sk-item::before, #sk-container-id-4 div.sk-parallel-item::before {content: \"\";position: absolute;border-left: 1px solid gray;box-sizing: border-box;top: 0;bottom: 0;left: 50%;z-index: -1;}#sk-container-id-4 div.sk-parallel-item {display: flex;flex-direction: column;z-index: 1;position: relative;background-color: white;}#sk-container-id-4 div.sk-parallel-item:first-child::after {align-self: flex-end;width: 50%;}#sk-container-id-4 div.sk-parallel-item:last-child::after {align-self: flex-start;width: 50%;}#sk-container-id-4 div.sk-parallel-item:only-child::after {width: 0;}#sk-container-id-4 div.sk-dashed-wrapped {border: 1px dashed gray;margin: 0 0.4em 0.5em 0.4em;box-sizing: border-box;padding-bottom: 0.4em;background-color: white;}#sk-container-id-4 div.sk-label label {font-family: monospace;font-weight: bold;display: inline-block;line-height: 1.2em;}#sk-container-id-4 div.sk-label-container {text-align: center;}#sk-container-id-4 div.sk-container {/* jupyter's `normalize.less` sets `[hidden] { display: none; }` but bootstrap.min.css set `[hidden] { display: none !important; }` so we also need the `!important` here to be able to override the default hidden behavior on the sphinx rendered scikit-learn.org. See: https://github.com/scikit-learn/scikit-learn/issues/21755 */display: inline-block !important;position: relative;}#sk-container-id-4 div.sk-text-repr-fallback {display: none;}</style><div id=\"sk-container-id-4\" class=\"sk-top-container\"><div class=\"sk-text-repr-fallback\"><pre>SVC()</pre><b>In a Jupyter environment, please rerun this cell to show the HTML representation or trust the notebook. <br />On GitHub, the HTML representation is unable to render, please try loading this page with nbviewer.org.</b></div><div class=\"sk-container\" hidden><div class=\"sk-item\"><div class=\"sk-estimator sk-toggleable\"><input class=\"sk-toggleable__control sk-hidden--visually\" id=\"sk-estimator-id-4\" type=\"checkbox\" checked><label for=\"sk-estimator-id-4\" class=\"sk-toggleable__label sk-toggleable__label-arrow\">SVC</label><div class=\"sk-toggleable__content\"><pre>SVC()</pre></div></div></div></div></div>"
      ],
      "text/plain": [
       "SVC()"
      ]
     },
     "execution_count": 14,
     "metadata": {},
     "output_type": "execute_result"
    }
   ],
   "source": [
    "from sklearn.svm import SVC\n",
    "\n",
    "SVC_model = SVC()\n",
    "SVC_model.fit(X_train, y_train)"
   ]
  },
  {
   "cell_type": "code",
   "execution_count": 15,
   "id": "08a46570",
   "metadata": {},
   "outputs": [
    {
     "data": {
      "text/plain": [
       "0.8842105263157894"
      ]
     },
     "execution_count": 15,
     "metadata": {},
     "output_type": "execute_result"
    }
   ],
   "source": [
    "SVC_model.score(X_test, y_test)"
   ]
  }
 ],
 "metadata": {
  "kernelspec": {
   "display_name": "Python 3 (ipykernel)",
   "language": "python",
   "name": "python3"
  },
  "language_info": {
   "codemirror_mode": {
    "name": "ipython",
    "version": 3
   },
   "file_extension": ".py",
   "mimetype": "text/x-python",
   "name": "python",
   "nbconvert_exporter": "python",
   "pygments_lexer": "ipython3",
   "version": "3.10.9"
  }
 },
 "nbformat": 4,
 "nbformat_minor": 5
}
